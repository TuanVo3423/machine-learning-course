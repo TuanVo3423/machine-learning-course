{
 "cells": [
  {
   "cell_type": "code",
   "execution_count": 40,
   "id": "451db502",
   "metadata": {},
   "outputs": [
    {
     "data": {
      "text/plain": [
       "['music-recommender.joblib']"
      ]
     },
     "execution_count": 40,
     "metadata": {},
     "output_type": "execute_result"
    }
   ],
   "source": [
    "import pandas as pd\n",
    "from sklearn.tree import DecisionTreeClassifier\n",
    "from sklearn.model_selection import train_test_split\n",
    "from sklearn.metrics import accuracy_score\n",
    "import joblib\n",
    "\n",
    "video_games_data = pd.read_csv('music.csv')\n",
    "# input\n",
    "input = video_games_data.drop(columns=['genre'])\n",
    "# ouput\n",
    "output = video_games_data['genre']\n",
    "\n",
    "input_train, input_test, output_train, output_test = train_test_split(input, output, test_size=0.2)\n",
    "\n",
    "# get and use model\n",
    "# model = DecisionTreeClassifier()\n",
    "# model.fit(input_train,output_train)\n",
    "# predictions = model.predict(input_test)\n",
    "# score = accuracy_score(output_test, predictions)\n",
    "# score\n",
    "\n",
    "# joblib.dump(model,'music-recommender.joblib')\n",
    "model = joblib.load('music-recommender.joblib')\n",
    "model.fit(input_train,output_train)\n",
    "predictions = model.predict(input_test)\n",
    "score = accuracy_score(output_test, predictions)\n",
    "score"
   ]
  },
  {
   "cell_type": "code",
   "execution_count": null,
   "id": "0f1e7620",
   "metadata": {},
   "outputs": [],
   "source": []
  }
 ],
 "metadata": {
  "kernelspec": {
   "display_name": "Python 3 (ipykernel)",
   "language": "python",
   "name": "python3"
  },
  "language_info": {
   "codemirror_mode": {
    "name": "ipython",
    "version": 3
   },
   "file_extension": ".py",
   "mimetype": "text/x-python",
   "name": "python",
   "nbconvert_exporter": "python",
   "pygments_lexer": "ipython3",
   "version": "3.11.5"
  }
 },
 "nbformat": 4,
 "nbformat_minor": 5
}
